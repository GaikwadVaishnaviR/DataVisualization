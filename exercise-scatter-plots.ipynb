{
 "cells": [
  {
   "cell_type": "markdown",
   "id": "ff98a425",
   "metadata": {
    "papermill": {
     "duration": 0.028634,
     "end_time": "2022-01-15T06:15:22.457899",
     "exception": false,
     "start_time": "2022-01-15T06:15:22.429265",
     "status": "completed"
    },
    "tags": []
   },
   "source": [
    "**This notebook is an exercise in the [Data Visualization](https://www.kaggle.com/learn/data-visualization) course.  You can reference the tutorial at [this link](https://www.kaggle.com/alexisbcook/scatter-plots).**\n",
    "\n",
    "---\n"
   ]
  },
  {
   "cell_type": "markdown",
   "id": "12a1c43d",
   "metadata": {
    "papermill": {
     "duration": 0.026456,
     "end_time": "2022-01-15T06:15:22.513789",
     "exception": false,
     "start_time": "2022-01-15T06:15:22.487333",
     "status": "completed"
    },
    "tags": []
   },
   "source": [
    "In this exercise, you will use your new knowledge to propose a solution to a real-world scenario.  To succeed, you will need to import data into Python, answer questions using the data, and generate **scatter plots** to understand patterns in the data.\n",
    "\n",
    "## Scenario\n",
    "\n",
    "You work for a major candy producer, and your goal is to write a report that your company can use to guide the design of its next product.  Soon after starting your research, you stumble across this [very interesting dataset](https://fivethirtyeight.com/features/the-ultimate-halloween-candy-power-ranking/) containing results from a fun survey to crowdsource favorite candies.\n",
    "\n",
    "## Setup\n",
    "\n",
    "Run the next cell to import and configure the Python libraries that you need to complete the exercise."
   ]
  },
  {
   "cell_type": "code",
   "execution_count": 1,
   "id": "a5add6da",
   "metadata": {
    "execution": {
     "iopub.execute_input": "2022-01-15T06:15:22.572502Z",
     "iopub.status.busy": "2022-01-15T06:15:22.571366Z",
     "iopub.status.idle": "2022-01-15T06:15:23.627837Z",
     "shell.execute_reply": "2022-01-15T06:15:23.628631Z",
     "shell.execute_reply.started": "2022-01-15T05:45:14.695191Z"
    },
    "papermill": {
     "duration": 1.088393,
     "end_time": "2022-01-15T06:15:23.629079",
     "exception": false,
     "start_time": "2022-01-15T06:15:22.540686",
     "status": "completed"
    },
    "tags": []
   },
   "outputs": [
    {
     "name": "stdout",
     "output_type": "stream",
     "text": [
      "Setup Complete\n"
     ]
    }
   ],
   "source": [
    "import pandas as pd\n",
    "pd.plotting.register_matplotlib_converters()\n",
    "import matplotlib.pyplot as plt\n",
    "%matplotlib inline\n",
    "import seaborn as sns\n",
    "print(\"Setup Complete\")"
   ]
  },
  {
   "cell_type": "markdown",
   "id": "31a178da",
   "metadata": {
    "papermill": {
     "duration": 0.026774,
     "end_time": "2022-01-15T06:15:23.685276",
     "exception": false,
     "start_time": "2022-01-15T06:15:23.658502",
     "status": "completed"
    },
    "tags": []
   },
   "source": [
    "The questions below will give you feedback on your work. Run the following cell to set up our feedback system."
   ]
  },
  {
   "cell_type": "code",
   "execution_count": 2,
   "id": "dcf9e921",
   "metadata": {
    "execution": {
     "iopub.execute_input": "2022-01-15T06:15:23.743384Z",
     "iopub.status.busy": "2022-01-15T06:15:23.742694Z",
     "iopub.status.idle": "2022-01-15T06:15:23.816633Z",
     "shell.execute_reply": "2022-01-15T06:15:23.815731Z",
     "shell.execute_reply.started": "2022-01-15T05:45:19.893701Z"
    },
    "papermill": {
     "duration": 0.104423,
     "end_time": "2022-01-15T06:15:23.816861",
     "exception": false,
     "start_time": "2022-01-15T06:15:23.712438",
     "status": "completed"
    },
    "tags": []
   },
   "outputs": [
    {
     "name": "stdout",
     "output_type": "stream",
     "text": [
      "Setup Complete\n"
     ]
    }
   ],
   "source": [
    "# Set up code checking\n",
    "import os\n",
    "if not os.path.exists(\"../input/candy.csv\"):\n",
    "    os.symlink(\"../input/data-for-datavis/candy.csv\", \"../input/candy.csv\") \n",
    "from learntools.core import binder\n",
    "binder.bind(globals())\n",
    "from learntools.data_viz_to_coder.ex4 import *\n",
    "print(\"Setup Complete\")"
   ]
  },
  {
   "cell_type": "markdown",
   "id": "a274200c",
   "metadata": {
    "papermill": {
     "duration": 0.029151,
     "end_time": "2022-01-15T06:15:23.874953",
     "exception": false,
     "start_time": "2022-01-15T06:15:23.845802",
     "status": "completed"
    },
    "tags": []
   },
   "source": [
    "## Step 1: Load the Data\n",
    "\n",
    "Read the candy data file into `candy_data`.  Use the `\"id\"` column to label the rows."
   ]
  },
  {
   "cell_type": "code",
   "execution_count": 3,
   "id": "decbaaed",
   "metadata": {
    "execution": {
     "iopub.execute_input": "2022-01-15T06:15:23.934789Z",
     "iopub.status.busy": "2022-01-15T06:15:23.933712Z",
     "iopub.status.idle": "2022-01-15T06:15:23.950390Z",
     "shell.execute_reply": "2022-01-15T06:15:23.950909Z",
     "shell.execute_reply.started": "2022-01-15T05:46:10.843409Z"
    },
    "papermill": {
     "duration": 0.048678,
     "end_time": "2022-01-15T06:15:23.951114",
     "exception": false,
     "start_time": "2022-01-15T06:15:23.902436",
     "status": "completed"
    },
    "tags": []
   },
   "outputs": [
    {
     "data": {
      "application/javascript": [
       "parent.postMessage({\"jupyterEvent\": \"custom.exercise_interaction\", \"data\": {\"outcomeType\": 1, \"valueTowardsCompletion\": 0.3333333333333333, \"interactionType\": 1, \"questionType\": 1, \"questionId\": \"1_LoadData\", \"learnToolsVersion\": \"0.3.4\", \"failureMessage\": \"\", \"exceptionClass\": \"\", \"trace\": \"\"}}, \"*\")"
      ],
      "text/plain": [
       "<IPython.core.display.Javascript object>"
      ]
     },
     "metadata": {},
     "output_type": "display_data"
    },
    {
     "data": {
      "text/markdown": [
       "<span style=\"color:#33cc33\">Correct</span>"
      ],
      "text/plain": [
       "Correct"
      ]
     },
     "metadata": {},
     "output_type": "display_data"
    }
   ],
   "source": [
    "# Path of the file to read\n",
    "candy_filepath = \"../input/candy.csv\"\n",
    "\n",
    "# Fill in the line below to read the file into a variable candy_data\n",
    "candy_data =pd.read_csv(candy_filepath,index_col=\"id\")\n",
    "\n",
    "# Run the line below with no changes to check that you've loaded the data correctly\n",
    "step_1.check()"
   ]
  },
  {
   "cell_type": "code",
   "execution_count": 4,
   "id": "66280ff0",
   "metadata": {
    "execution": {
     "iopub.execute_input": "2022-01-15T06:15:24.015479Z",
     "iopub.status.busy": "2022-01-15T06:15:24.013913Z",
     "iopub.status.idle": "2022-01-15T06:15:24.018175Z",
     "shell.execute_reply": "2022-01-15T06:15:24.018732Z"
    },
    "papermill": {
     "duration": 0.038537,
     "end_time": "2022-01-15T06:15:24.018943",
     "exception": false,
     "start_time": "2022-01-15T06:15:23.980406",
     "status": "completed"
    },
    "tags": []
   },
   "outputs": [],
   "source": [
    "# Lines below will give you a hint or solution code\n",
    "#step_1.hint()\n",
    "#step_1.solution()"
   ]
  },
  {
   "cell_type": "markdown",
   "id": "e600c26f",
   "metadata": {
    "papermill": {
     "duration": 0.028824,
     "end_time": "2022-01-15T06:15:24.078314",
     "exception": false,
     "start_time": "2022-01-15T06:15:24.049490",
     "status": "completed"
    },
    "tags": []
   },
   "source": [
    "## Step 2: Review the data\n",
    "\n",
    "Use a Python command to print the first five rows of the data."
   ]
  },
  {
   "cell_type": "code",
   "execution_count": 5,
   "id": "f1bb3c84",
   "metadata": {
    "execution": {
     "iopub.execute_input": "2022-01-15T06:15:24.144074Z",
     "iopub.status.busy": "2022-01-15T06:15:24.143328Z",
     "iopub.status.idle": "2022-01-15T06:15:24.167377Z",
     "shell.execute_reply": "2022-01-15T06:15:24.167961Z",
     "shell.execute_reply.started": "2022-01-15T05:46:31.304211Z"
    },
    "papermill": {
     "duration": 0.060858,
     "end_time": "2022-01-15T06:15:24.168182",
     "exception": false,
     "start_time": "2022-01-15T06:15:24.107324",
     "status": "completed"
    },
    "tags": []
   },
   "outputs": [
    {
     "data": {
      "text/html": [
       "<div>\n",
       "<style scoped>\n",
       "    .dataframe tbody tr th:only-of-type {\n",
       "        vertical-align: middle;\n",
       "    }\n",
       "\n",
       "    .dataframe tbody tr th {\n",
       "        vertical-align: top;\n",
       "    }\n",
       "\n",
       "    .dataframe thead th {\n",
       "        text-align: right;\n",
       "    }\n",
       "</style>\n",
       "<table border=\"1\" class=\"dataframe\">\n",
       "  <thead>\n",
       "    <tr style=\"text-align: right;\">\n",
       "      <th></th>\n",
       "      <th>competitorname</th>\n",
       "      <th>chocolate</th>\n",
       "      <th>fruity</th>\n",
       "      <th>caramel</th>\n",
       "      <th>peanutyalmondy</th>\n",
       "      <th>nougat</th>\n",
       "      <th>crispedricewafer</th>\n",
       "      <th>hard</th>\n",
       "      <th>bar</th>\n",
       "      <th>pluribus</th>\n",
       "      <th>sugarpercent</th>\n",
       "      <th>pricepercent</th>\n",
       "      <th>winpercent</th>\n",
       "    </tr>\n",
       "    <tr>\n",
       "      <th>id</th>\n",
       "      <th></th>\n",
       "      <th></th>\n",
       "      <th></th>\n",
       "      <th></th>\n",
       "      <th></th>\n",
       "      <th></th>\n",
       "      <th></th>\n",
       "      <th></th>\n",
       "      <th></th>\n",
       "      <th></th>\n",
       "      <th></th>\n",
       "      <th></th>\n",
       "      <th></th>\n",
       "    </tr>\n",
       "  </thead>\n",
       "  <tbody>\n",
       "    <tr>\n",
       "      <th>0</th>\n",
       "      <td>100 Grand</td>\n",
       "      <td>Yes</td>\n",
       "      <td>No</td>\n",
       "      <td>Yes</td>\n",
       "      <td>No</td>\n",
       "      <td>No</td>\n",
       "      <td>Yes</td>\n",
       "      <td>No</td>\n",
       "      <td>Yes</td>\n",
       "      <td>No</td>\n",
       "      <td>0.732</td>\n",
       "      <td>0.860</td>\n",
       "      <td>66.971725</td>\n",
       "    </tr>\n",
       "    <tr>\n",
       "      <th>1</th>\n",
       "      <td>3 Musketeers</td>\n",
       "      <td>Yes</td>\n",
       "      <td>No</td>\n",
       "      <td>No</td>\n",
       "      <td>No</td>\n",
       "      <td>Yes</td>\n",
       "      <td>No</td>\n",
       "      <td>No</td>\n",
       "      <td>Yes</td>\n",
       "      <td>No</td>\n",
       "      <td>0.604</td>\n",
       "      <td>0.511</td>\n",
       "      <td>67.602936</td>\n",
       "    </tr>\n",
       "    <tr>\n",
       "      <th>2</th>\n",
       "      <td>Air Heads</td>\n",
       "      <td>No</td>\n",
       "      <td>Yes</td>\n",
       "      <td>No</td>\n",
       "      <td>No</td>\n",
       "      <td>No</td>\n",
       "      <td>No</td>\n",
       "      <td>No</td>\n",
       "      <td>No</td>\n",
       "      <td>No</td>\n",
       "      <td>0.906</td>\n",
       "      <td>0.511</td>\n",
       "      <td>52.341465</td>\n",
       "    </tr>\n",
       "    <tr>\n",
       "      <th>3</th>\n",
       "      <td>Almond Joy</td>\n",
       "      <td>Yes</td>\n",
       "      <td>No</td>\n",
       "      <td>No</td>\n",
       "      <td>Yes</td>\n",
       "      <td>No</td>\n",
       "      <td>No</td>\n",
       "      <td>No</td>\n",
       "      <td>Yes</td>\n",
       "      <td>No</td>\n",
       "      <td>0.465</td>\n",
       "      <td>0.767</td>\n",
       "      <td>50.347546</td>\n",
       "    </tr>\n",
       "    <tr>\n",
       "      <th>4</th>\n",
       "      <td>Baby Ruth</td>\n",
       "      <td>Yes</td>\n",
       "      <td>No</td>\n",
       "      <td>Yes</td>\n",
       "      <td>Yes</td>\n",
       "      <td>Yes</td>\n",
       "      <td>No</td>\n",
       "      <td>No</td>\n",
       "      <td>Yes</td>\n",
       "      <td>No</td>\n",
       "      <td>0.604</td>\n",
       "      <td>0.767</td>\n",
       "      <td>56.914547</td>\n",
       "    </tr>\n",
       "    <tr>\n",
       "      <th>...</th>\n",
       "      <td>...</td>\n",
       "      <td>...</td>\n",
       "      <td>...</td>\n",
       "      <td>...</td>\n",
       "      <td>...</td>\n",
       "      <td>...</td>\n",
       "      <td>...</td>\n",
       "      <td>...</td>\n",
       "      <td>...</td>\n",
       "      <td>...</td>\n",
       "      <td>...</td>\n",
       "      <td>...</td>\n",
       "      <td>...</td>\n",
       "    </tr>\n",
       "    <tr>\n",
       "      <th>78</th>\n",
       "      <td>Twizzlers</td>\n",
       "      <td>No</td>\n",
       "      <td>Yes</td>\n",
       "      <td>No</td>\n",
       "      <td>No</td>\n",
       "      <td>No</td>\n",
       "      <td>No</td>\n",
       "      <td>No</td>\n",
       "      <td>No</td>\n",
       "      <td>No</td>\n",
       "      <td>0.220</td>\n",
       "      <td>0.116</td>\n",
       "      <td>45.466282</td>\n",
       "    </tr>\n",
       "    <tr>\n",
       "      <th>79</th>\n",
       "      <td>Warheads</td>\n",
       "      <td>No</td>\n",
       "      <td>Yes</td>\n",
       "      <td>No</td>\n",
       "      <td>No</td>\n",
       "      <td>No</td>\n",
       "      <td>No</td>\n",
       "      <td>Yes</td>\n",
       "      <td>No</td>\n",
       "      <td>No</td>\n",
       "      <td>0.093</td>\n",
       "      <td>0.116</td>\n",
       "      <td>39.011898</td>\n",
       "    </tr>\n",
       "    <tr>\n",
       "      <th>80</th>\n",
       "      <td>Welch's Fruit Snacks</td>\n",
       "      <td>No</td>\n",
       "      <td>Yes</td>\n",
       "      <td>No</td>\n",
       "      <td>No</td>\n",
       "      <td>No</td>\n",
       "      <td>No</td>\n",
       "      <td>No</td>\n",
       "      <td>No</td>\n",
       "      <td>Yes</td>\n",
       "      <td>0.313</td>\n",
       "      <td>0.313</td>\n",
       "      <td>44.375519</td>\n",
       "    </tr>\n",
       "    <tr>\n",
       "      <th>81</th>\n",
       "      <td>Werther's Original Caramel</td>\n",
       "      <td>No</td>\n",
       "      <td>No</td>\n",
       "      <td>Yes</td>\n",
       "      <td>No</td>\n",
       "      <td>No</td>\n",
       "      <td>No</td>\n",
       "      <td>Yes</td>\n",
       "      <td>No</td>\n",
       "      <td>No</td>\n",
       "      <td>0.186</td>\n",
       "      <td>0.267</td>\n",
       "      <td>41.904308</td>\n",
       "    </tr>\n",
       "    <tr>\n",
       "      <th>82</th>\n",
       "      <td>Whoppers</td>\n",
       "      <td>Yes</td>\n",
       "      <td>No</td>\n",
       "      <td>No</td>\n",
       "      <td>No</td>\n",
       "      <td>No</td>\n",
       "      <td>Yes</td>\n",
       "      <td>No</td>\n",
       "      <td>No</td>\n",
       "      <td>Yes</td>\n",
       "      <td>0.872</td>\n",
       "      <td>0.848</td>\n",
       "      <td>49.524113</td>\n",
       "    </tr>\n",
       "  </tbody>\n",
       "</table>\n",
       "<p>83 rows × 13 columns</p>\n",
       "</div>"
      ],
      "text/plain": [
       "                competitorname chocolate fruity caramel peanutyalmondy nougat  \\\n",
       "id                                                                              \n",
       "0                    100 Grand       Yes     No     Yes             No     No   \n",
       "1                 3 Musketeers       Yes     No      No             No    Yes   \n",
       "2                    Air Heads        No    Yes      No             No     No   \n",
       "3                   Almond Joy       Yes     No      No            Yes     No   \n",
       "4                    Baby Ruth       Yes     No     Yes            Yes    Yes   \n",
       "..                         ...       ...    ...     ...            ...    ...   \n",
       "78                   Twizzlers        No    Yes      No             No     No   \n",
       "79                    Warheads        No    Yes      No             No     No   \n",
       "80        Welch's Fruit Snacks        No    Yes      No             No     No   \n",
       "81  Werther's Original Caramel        No     No     Yes             No     No   \n",
       "82                    Whoppers       Yes     No      No             No     No   \n",
       "\n",
       "   crispedricewafer hard  bar pluribus  sugarpercent  pricepercent  winpercent  \n",
       "id                                                                              \n",
       "0               Yes   No  Yes       No         0.732         0.860   66.971725  \n",
       "1                No   No  Yes       No         0.604         0.511   67.602936  \n",
       "2                No   No   No       No         0.906         0.511   52.341465  \n",
       "3                No   No  Yes       No         0.465         0.767   50.347546  \n",
       "4                No   No  Yes       No         0.604         0.767   56.914547  \n",
       "..              ...  ...  ...      ...           ...           ...         ...  \n",
       "78               No   No   No       No         0.220         0.116   45.466282  \n",
       "79               No  Yes   No       No         0.093         0.116   39.011898  \n",
       "80               No   No   No      Yes         0.313         0.313   44.375519  \n",
       "81               No  Yes   No       No         0.186         0.267   41.904308  \n",
       "82              Yes   No   No      Yes         0.872         0.848   49.524113  \n",
       "\n",
       "[83 rows x 13 columns]"
      ]
     },
     "execution_count": 5,
     "metadata": {},
     "output_type": "execute_result"
    }
   ],
   "source": [
    "# Print the first five rows of the data\n",
    "candy_data\n",
    "# Your code here"
   ]
  },
  {
   "cell_type": "markdown",
   "id": "7318d56a",
   "metadata": {
    "papermill": {
     "duration": 0.029467,
     "end_time": "2022-01-15T06:15:24.227478",
     "exception": false,
     "start_time": "2022-01-15T06:15:24.198011",
     "status": "completed"
    },
    "tags": []
   },
   "source": [
    "The dataset contains 83 rows, where each corresponds to a different candy bar.  There are 13 columns:\n",
    "- `'competitorname'` contains the name of the candy bar. \n",
    "- the next **9** columns (from `'chocolate'` to `'pluribus'`) describe the candy.  For instance, rows with chocolate candies have `\"Yes\"` in the `'chocolate'` column (and candies without chocolate have `\"No\"` in the same column).\n",
    "- `'sugarpercent'` provides some indication of the amount of sugar, where higher values signify higher sugar content.\n",
    "- `'pricepercent'` shows the price per unit, relative to the other candies in the dataset.\n",
    "- `'winpercent'` is calculated from the survey results; higher values indicate that the candy was more popular with survey respondents.\n",
    "\n",
    "Use the first five rows of the data to answer the questions below."
   ]
  },
  {
   "cell_type": "code",
   "execution_count": 6,
   "id": "0e1e8300",
   "metadata": {
    "execution": {
     "iopub.execute_input": "2022-01-15T06:15:24.290170Z",
     "iopub.status.busy": "2022-01-15T06:15:24.289524Z",
     "iopub.status.idle": "2022-01-15T06:15:24.296176Z",
     "shell.execute_reply": "2022-01-15T06:15:24.296774Z",
     "shell.execute_reply.started": "2022-01-15T05:48:28.258334Z"
    },
    "papermill": {
     "duration": 0.039915,
     "end_time": "2022-01-15T06:15:24.296968",
     "exception": false,
     "start_time": "2022-01-15T06:15:24.257053",
     "status": "completed"
    },
    "tags": []
   },
   "outputs": [
    {
     "data": {
      "application/javascript": [
       "parent.postMessage({\"jupyterEvent\": \"custom.exercise_interaction\", \"data\": {\"outcomeType\": 1, \"valueTowardsCompletion\": 0.3333333333333333, \"interactionType\": 1, \"questionType\": 1, \"questionId\": \"2_ReviewData\", \"learnToolsVersion\": \"0.3.4\", \"failureMessage\": \"\", \"exceptionClass\": \"\", \"trace\": \"\"}}, \"*\")"
      ],
      "text/plain": [
       "<IPython.core.display.Javascript object>"
      ]
     },
     "metadata": {},
     "output_type": "display_data"
    },
    {
     "data": {
      "text/markdown": [
       "<span style=\"color:#33cc33\">Correct</span>"
      ],
      "text/plain": [
       "Correct"
      ]
     },
     "metadata": {},
     "output_type": "display_data"
    }
   ],
   "source": [
    "# Fill in the line below: Which candy was more popular with survey respondents:\n",
    "# '3 Musketeers' or 'Almond Joy'?  (Please enclose your answer in single quotes.)\n",
    "more_popular = '3 Musketeers'\n",
    "\n",
    "# Fill in the line below: Which candy has higher sugar content: 'Air Heads'\n",
    "# or 'Baby Ruth'? (Please enclose your answer in single quotes.)\n",
    "more_sugar = 'Air Heads'\n",
    "\n",
    "# Check your answers\n",
    "step_2.check()"
   ]
  },
  {
   "cell_type": "code",
   "execution_count": 7,
   "id": "9b7be252",
   "metadata": {
    "execution": {
     "iopub.execute_input": "2022-01-15T06:15:24.361393Z",
     "iopub.status.busy": "2022-01-15T06:15:24.360771Z",
     "iopub.status.idle": "2022-01-15T06:15:24.363291Z",
     "shell.execute_reply": "2022-01-15T06:15:24.363936Z"
    },
    "papermill": {
     "duration": 0.036539,
     "end_time": "2022-01-15T06:15:24.364126",
     "exception": false,
     "start_time": "2022-01-15T06:15:24.327587",
     "status": "completed"
    },
    "tags": []
   },
   "outputs": [],
   "source": [
    "# Lines below will give you a hint or solution code\n",
    "#step_2.hint()\n",
    "#step_2.solution()"
   ]
  },
  {
   "cell_type": "markdown",
   "id": "a1f3314a",
   "metadata": {
    "papermill": {
     "duration": 0.030123,
     "end_time": "2022-01-15T06:15:24.424742",
     "exception": false,
     "start_time": "2022-01-15T06:15:24.394619",
     "status": "completed"
    },
    "tags": []
   },
   "source": [
    "## Step 3: The role of sugar\n",
    "\n",
    "Do people tend to prefer candies with higher sugar content?  \n",
    "\n",
    "#### Part A\n",
    "\n",
    "Create a scatter plot that shows the relationship between `'sugarpercent'` (on the horizontal x-axis) and `'winpercent'` (on the vertical y-axis).  _Don't add a regression line just yet -- you'll do that in the next step!_"
   ]
  },
  {
   "cell_type": "code",
   "execution_count": 8,
   "id": "3a657992",
   "metadata": {
    "execution": {
     "iopub.execute_input": "2022-01-15T06:15:24.491352Z",
     "iopub.status.busy": "2022-01-15T06:15:24.490711Z",
     "iopub.status.idle": "2022-01-15T06:15:24.761381Z",
     "shell.execute_reply": "2022-01-15T06:15:24.762027Z",
     "shell.execute_reply.started": "2022-01-15T05:53:14.650991Z"
    },
    "papermill": {
     "duration": 0.305397,
     "end_time": "2022-01-15T06:15:24.762233",
     "exception": false,
     "start_time": "2022-01-15T06:15:24.456836",
     "status": "completed"
    },
    "tags": []
   },
   "outputs": [
    {
     "data": {
      "application/javascript": [
       "parent.postMessage({\"jupyterEvent\": \"custom.exercise_interaction\", \"data\": {\"outcomeType\": 1, \"valueTowardsCompletion\": 0.3333333333333333, \"interactionType\": 1, \"questionType\": 2, \"questionId\": \"3.1_PlotBlueScatter\", \"learnToolsVersion\": \"0.3.4\", \"failureMessage\": \"\", \"exceptionClass\": \"\", \"trace\": \"\"}}, \"*\")"
      ],
      "text/plain": [
       "<IPython.core.display.Javascript object>"
      ]
     },
     "metadata": {},
     "output_type": "display_data"
    },
    {
     "data": {
      "text/markdown": [
       "<span style=\"color:#33cc33\">Correct</span>"
      ],
      "text/plain": [
       "Correct"
      ]
     },
     "metadata": {},
     "output_type": "display_data"
    },
    {
     "data": {
      "image/png": "[encoded data removed]",
      "text/plain": [
       "<Figure size 432x288 with 1 Axes>"
      ]
     },
     "metadata": {
      "needs_background": "light"
     },
     "output_type": "display_data"
    }
   ],
   "source": [
    "# Scatter plot showing the relationship between 'sugarpercent' and 'winpercent'\n",
    "sns.scatterplot(x=candy_data['sugarpercent'],y=candy_data['winpercent'])\n",
    "# Your code here\n",
    "\n",
    "# Check your answer\n",
    "step_3.a.check()"
   ]
  },
  {
   "cell_type": "code",
   "execution_count": 9,
   "id": "f954dd35",
   "metadata": {
    "execution": {
     "iopub.execute_input": "2022-01-15T06:15:24.833737Z",
     "iopub.status.busy": "2022-01-15T06:15:24.832023Z",
     "iopub.status.idle": "2022-01-15T06:15:24.836071Z",
     "shell.execute_reply": "2022-01-15T06:15:24.836561Z"
    },
    "papermill": {
     "duration": 0.04184,
     "end_time": "2022-01-15T06:15:24.836793",
     "exception": false,
     "start_time": "2022-01-15T06:15:24.794953",
     "status": "completed"
    },
    "tags": []
   },
   "outputs": [],
   "source": [
    "# Lines below will give you a hint or solution code\n",
    "#step_3.a.hint()\n",
    "#step_3.a.solution_plot()"
   ]
  },
  {
   "cell_type": "markdown",
   "id": "ad3c8376",
   "metadata": {
    "papermill": {
     "duration": 0.033916,
     "end_time": "2022-01-15T06:15:24.904241",
     "exception": false,
     "start_time": "2022-01-15T06:15:24.870325",
     "status": "completed"
    },
    "tags": []
   },
   "source": [
    "#### Part B\n",
    "\n",
    "Does the scatter plot show a **strong** correlation between the two variables?  If so, are candies with more sugar relatively more or less popular with the survey respondents?"
   ]
  },
  {
   "cell_type": "code",
   "execution_count": 10,
   "id": "b02aeb7d",
   "metadata": {
    "execution": {
     "iopub.execute_input": "2022-01-15T06:15:24.973188Z",
     "iopub.status.busy": "2022-01-15T06:15:24.972520Z",
     "iopub.status.idle": "2022-01-15T06:15:24.975570Z",
     "shell.execute_reply": "2022-01-15T06:15:24.976113Z",
     "shell.execute_reply.started": "2022-01-15T05:53:52.973107Z"
    },
    "papermill": {
     "duration": 0.039069,
     "end_time": "2022-01-15T06:15:24.976285",
     "exception": false,
     "start_time": "2022-01-15T06:15:24.937216",
     "status": "completed"
    },
    "tags": []
   },
   "outputs": [],
   "source": [
    "#step_3.b.hint()"
   ]
  },
  {
   "cell_type": "code",
   "execution_count": 11,
   "id": "9e792f0e",
   "metadata": {
    "execution": {
     "iopub.execute_input": "2022-01-15T06:15:25.048383Z",
     "iopub.status.busy": "2022-01-15T06:15:25.047749Z",
     "iopub.status.idle": "2022-01-15T06:15:25.055767Z",
     "shell.execute_reply": "2022-01-15T06:15:25.056308Z",
     "shell.execute_reply.started": "2022-01-15T05:53:58.368389Z"
    },
    "papermill": {
     "duration": 0.04655,
     "end_time": "2022-01-15T06:15:25.056488",
     "exception": false,
     "start_time": "2022-01-15T06:15:25.009938",
     "status": "completed"
    },
    "tags": []
   },
   "outputs": [
    {
     "data": {
      "application/javascript": [
       "parent.postMessage({\"jupyterEvent\": \"custom.exercise_interaction\", \"data\": {\"interactionType\": 3, \"questionType\": 4, \"questionId\": \"3.2_ThinkBlueScatter\", \"learnToolsVersion\": \"0.3.4\", \"valueTowardsCompletion\": 0.0, \"failureMessage\": \"\", \"exceptionClass\": \"\", \"trace\": \"\", \"outcomeType\": 4}}, \"*\")"
      ],
      "text/plain": [
       "<IPython.core.display.Javascript object>"
      ]
     },
     "metadata": {},
     "output_type": "display_data"
    },
    {
     "data": {
      "text/markdown": [
       "<span style=\"color:#33cc99\">Solution:</span> The scatter plot does not show a strong correlation between the two variables. Since there is no clear relationship between the two variables, this tells us that sugar content does not play a strong role in candy popularity."
      ],
      "text/plain": [
       "Solution: The scatter plot does not show a strong correlation between the two variables. Since there is no clear relationship between the two variables, this tells us that sugar content does not play a strong role in candy popularity."
      ]
     },
     "metadata": {},
     "output_type": "display_data"
    }
   ],
   "source": [
    "# Check your answer (Run this code cell to receive credit!)\n",
    "step_3.b.solution()"
   ]
  },
  {
   "cell_type": "markdown",
   "id": "fbd296de",
   "metadata": {
    "papermill": {
     "duration": 0.033893,
     "end_time": "2022-01-15T06:15:25.125427",
     "exception": false,
     "start_time": "2022-01-15T06:15:25.091534",
     "status": "completed"
    },
    "tags": []
   },
   "source": [
    "## Step 4: Take a closer look\n",
    "\n",
    "#### Part A\n",
    "\n",
    "Create the same scatter plot you created in **Step 3**, but now with a regression line!"
   ]
  },
  {
   "cell_type": "code",
   "execution_count": 12,
   "id": "5479b982",
   "metadata": {
    "execution": {
     "iopub.execute_input": "2022-01-15T06:15:25.214069Z",
     "iopub.status.busy": "2022-01-15T06:15:25.213047Z",
     "iopub.status.idle": "2022-01-15T06:15:25.530084Z",
     "shell.execute_reply": "2022-01-15T06:15:25.530567Z",
     "shell.execute_reply.started": "2022-01-15T05:55:17.202581Z"
    },
    "papermill": {
     "duration": 0.372115,
     "end_time": "2022-01-15T06:15:25.530787",
     "exception": false,
     "start_time": "2022-01-15T06:15:25.158672",
     "status": "completed"
    },
    "tags": []
   },
   "outputs": [
    {
     "data": {
      "application/javascript": [
       "parent.postMessage({\"jupyterEvent\": \"custom.exercise_interaction\", \"data\": {\"outcomeType\": 1, \"valueTowardsCompletion\": 0.3333333333333333, \"interactionType\": 1, \"questionType\": 2, \"questionId\": \"4.1_PlotBlueReg\", \"learnToolsVersion\": \"0.3.4\", \"failureMessage\": \"\", \"exceptionClass\": \"\", \"trace\": \"\"}}, \"*\")"
      ],
      "text/plain": [
       "<IPython.core.display.Javascript object>"
      ]
     },
     "metadata": {},
     "output_type": "display_data"
    },
    {
     "data": {
      "text/markdown": [
       "<span style=\"color:#33cc33\">Correct</span>"
      ],
      "text/plain": [
       "Correct"
      ]
     },
     "metadata": {},
     "output_type": "display_data"
    },
    {
     "data": {
      "image/png": "[encoded data removed]",
      "text/plain": [
       "<Figure size 432x288 with 1 Axes>"
      ]
     },
     "metadata": {
      "needs_background": "light"
     },
     "output_type": "display_data"
    }
   ],
   "source": [
    "# Scatter plot w/ regression line showing the relationship between 'sugarpercent' and 'winpercent'\n",
    "sns.regplot(x=candy_data['sugarpercent'],y=candy_data['winpercent'])\n",
    " # Your code here\n",
    "\n",
    "# Check your answer\n",
    "step_4.a.check()"
   ]
  },
  {
   "cell_type": "code",
   "execution_count": 13,
   "id": "2e0df3a6",
   "metadata": {
    "execution": {
     "iopub.execute_input": "2022-01-15T06:15:25.610059Z",
     "iopub.status.busy": "2022-01-15T06:15:25.609379Z",
     "iopub.status.idle": "2022-01-15T06:15:25.611964Z",
     "shell.execute_reply": "2022-01-15T06:15:25.612492Z"
    },
    "papermill": {
     "duration": 0.043428,
     "end_time": "2022-01-15T06:15:25.612729",
     "exception": false,
     "start_time": "2022-01-15T06:15:25.569301",
     "status": "completed"
    },
    "tags": []
   },
   "outputs": [],
   "source": [
    "# Lines below will give you a hint or solution code\n",
    "#step_4.a.hint()\n",
    "#step_4.a.solution_plot()"
   ]
  },
  {
   "cell_type": "markdown",
   "id": "583c61cf",
   "metadata": {
    "papermill": {
     "duration": 0.035814,
     "end_time": "2022-01-15T06:15:25.687553",
     "exception": false,
     "start_time": "2022-01-15T06:15:25.651739",
     "status": "completed"
    },
    "tags": []
   },
   "source": [
    "#### Part B\n",
    "\n",
    "According to the plot above, is there a **slight** correlation between `'winpercent'` and `'sugarpercent'`?  What does this tell you about the candy that people tend to prefer?"
   ]
  },
  {
   "cell_type": "code",
   "execution_count": 14,
   "id": "32ff2d50",
   "metadata": {
    "execution": {
     "iopub.execute_input": "2022-01-15T06:15:25.762799Z",
     "iopub.status.busy": "2022-01-15T06:15:25.762124Z",
     "iopub.status.idle": "2022-01-15T06:15:25.764791Z",
     "shell.execute_reply": "2022-01-15T06:15:25.765371Z"
    },
    "papermill": {
     "duration": 0.041986,
     "end_time": "2022-01-15T06:15:25.765576",
     "exception": false,
     "start_time": "2022-01-15T06:15:25.723590",
     "status": "completed"
    },
    "tags": []
   },
   "outputs": [],
   "source": [
    "#step_4.b.hint()"
   ]
  },
  {
   "cell_type": "code",
   "execution_count": 15,
   "id": "d6957a57",
   "metadata": {
    "execution": {
     "iopub.execute_input": "2022-01-15T06:15:25.841588Z",
     "iopub.status.busy": "2022-01-15T06:15:25.840943Z",
     "iopub.status.idle": "2022-01-15T06:15:25.846964Z",
     "shell.execute_reply": "2022-01-15T06:15:25.847519Z",
     "shell.execute_reply.started": "2022-01-15T05:55:53.011631Z"
    },
    "papermill": {
     "duration": 0.046375,
     "end_time": "2022-01-15T06:15:25.847745",
     "exception": false,
     "start_time": "2022-01-15T06:15:25.801370",
     "status": "completed"
    },
    "tags": []
   },
   "outputs": [
    {
     "data": {
      "application/javascript": [
       "parent.postMessage({\"jupyterEvent\": \"custom.exercise_interaction\", \"data\": {\"interactionType\": 3, \"questionType\": 4, \"questionId\": \"4.2_ThinkBlueReg\", \"learnToolsVersion\": \"0.3.4\", \"valueTowardsCompletion\": 0.0, \"failureMessage\": \"\", \"exceptionClass\": \"\", \"trace\": \"\", \"outcomeType\": 4}}, \"*\")"
      ],
      "text/plain": [
       "<IPython.core.display.Javascript object>"
      ]
     },
     "metadata": {},
     "output_type": "display_data"
    },
    {
     "data": {
      "text/markdown": [
       "<span style=\"color:#33cc99\">Solution:</span> Since the regression line has a slightly positive slope, this tells us that there is a slightly positive correlation between `'winpercent'` and `'sugarpercent'`. Thus, people have a slight preference for candies containing relatively more sugar."
      ],
      "text/plain": [
       "Solution: Since the regression line has a slightly positive slope, this tells us that there is a slightly positive correlation between `'winpercent'` and `'sugarpercent'`. Thus, people have a slight preference for candies containing relatively more sugar."
      ]
     },
     "metadata": {},
     "output_type": "display_data"
    }
   ],
   "source": [
    "# Check your answer (Run this code cell to receive credit!)\n",
    "step_4.b.solution()"
   ]
  },
  {
   "cell_type": "markdown",
   "id": "759d6360",
   "metadata": {
    "papermill": {
     "duration": 0.036624,
     "end_time": "2022-01-15T06:15:25.922331",
     "exception": false,
     "start_time": "2022-01-15T06:15:25.885707",
     "status": "completed"
    },
    "tags": []
   },
   "source": [
    "## Step 5: Chocolate!\n",
    "\n",
    "In the code cell below, create a scatter plot to show the relationship between `'pricepercent'` (on the horizontal x-axis) and `'winpercent'` (on the vertical y-axis). Use the `'chocolate'` column to color-code the points.  _Don't add any regression lines just yet -- you'll do that in the next step!_"
   ]
  },
  {
   "cell_type": "code",
   "execution_count": 16,
   "id": "6a6518e9",
   "metadata": {
    "execution": {
     "iopub.execute_input": "2022-01-15T06:15:25.999790Z",
     "iopub.status.busy": "2022-01-15T06:15:25.999091Z",
     "iopub.status.idle": "2022-01-15T06:15:26.302865Z",
     "shell.execute_reply": "2022-01-15T06:15:26.302273Z",
     "shell.execute_reply.started": "2022-01-15T06:00:49.783544Z"
    },
    "papermill": {
     "duration": 0.343923,
     "end_time": "2022-01-15T06:15:26.303028",
     "exception": false,
     "start_time": "2022-01-15T06:15:25.959105",
     "status": "completed"
    },
    "tags": []
   },
   "outputs": [
    {
     "data": {
      "application/javascript": [
       "parent.postMessage({\"jupyterEvent\": \"custom.exercise_interaction\", \"data\": {\"outcomeType\": 1, \"valueTowardsCompletion\": 0.3333333333333333, \"interactionType\": 1, \"questionType\": 2, \"questionId\": \"5_ColorScatter\", \"learnToolsVersion\": \"0.3.4\", \"failureMessage\": \"\", \"exceptionClass\": \"\", \"trace\": \"\"}}, \"*\")"
      ],
      "text/plain": [
       "<IPython.core.display.Javascript object>"
      ]
     },
     "metadata": {},
     "output_type": "display_data"
    },
    {
     "data": {
      "text/markdown": [
       "<span style=\"color:#33cc33\">Correct</span>"
      ],
      "text/plain": [
       "Correct"
      ]
     },
     "metadata": {},
     "output_type": "display_data"
    },
    {
     "data": {
      "image/png": "[encoded data removed]",
      "text/plain": [
       "<Figure size 432x288 with 1 Axes>"
      ]
     },
     "metadata": {
      "needs_background": "light"
     },
     "output_type": "display_data"
    }
   ],
   "source": [
    "# Scatter plot showing the relationship between 'pricepercent', 'winpercent', and 'chocolate'\n",
    "sns.scatterplot(x=candy_data['pricepercent'],y=candy_data['winpercent'],hue=candy_data['chocolate'])\n",
    " # Your code here\n",
    "\n",
    "# Check your answer\n",
    "step_5.check()"
   ]
  },
  {
   "cell_type": "code",
   "execution_count": 17,
   "id": "ca35f12d",
   "metadata": {
    "execution": {
     "iopub.execute_input": "2022-01-15T06:15:26.385158Z",
     "iopub.status.busy": "2022-01-15T06:15:26.384430Z",
     "iopub.status.idle": "2022-01-15T06:15:26.386992Z",
     "shell.execute_reply": "2022-01-15T06:15:26.387565Z"
    },
    "papermill": {
     "duration": 0.04538,
     "end_time": "2022-01-15T06:15:26.387773",
     "exception": false,
     "start_time": "2022-01-15T06:15:26.342393",
     "status": "completed"
    },
    "tags": []
   },
   "outputs": [],
   "source": [
    "# Lines below will give you a hint or solution code\n",
    "#step_5.hint()\n",
    "#step_5.solution_plot()"
   ]
  },
  {
   "cell_type": "markdown",
   "id": "6b351ad6",
   "metadata": {
    "papermill": {
     "duration": 0.03872,
     "end_time": "2022-01-15T06:15:26.465475",
     "exception": false,
     "start_time": "2022-01-15T06:15:26.426755",
     "status": "completed"
    },
    "tags": []
   },
   "source": [
    "Can you see any interesting patterns in the scatter plot?  We'll investigate this plot further  by adding regression lines in the next step!\n",
    "\n",
    "## Step 6: Investigate chocolate\n",
    "\n",
    "#### Part A\n",
    "\n",
    "Create the same scatter plot you created in **Step 5**, but now with two regression lines, corresponding to (1) chocolate candies and (2) candies without chocolate."
   ]
  },
  {
   "cell_type": "code",
   "execution_count": 18,
   "id": "3be7ce64",
   "metadata": {
    "execution": {
     "iopub.execute_input": "2022-01-15T06:15:26.555695Z",
     "iopub.status.busy": "2022-01-15T06:15:26.554940Z",
     "iopub.status.idle": "2022-01-15T06:15:27.236627Z",
     "shell.execute_reply": "2022-01-15T06:15:27.236068Z",
     "shell.execute_reply.started": "2022-01-15T06:03:17.337144Z"
    },
    "papermill": {
     "duration": 0.731979,
     "end_time": "2022-01-15T06:15:27.236808",
     "exception": false,
     "start_time": "2022-01-15T06:15:26.504829",
     "status": "completed"
    },
    "tags": []
   },
   "outputs": [
    {
     "data": {
      "application/javascript": [
       "parent.postMessage({\"jupyterEvent\": \"custom.exercise_interaction\", \"data\": {\"outcomeType\": 1, \"valueTowardsCompletion\": 0.3333333333333333, \"interactionType\": 1, \"questionType\": 2, \"questionId\": \"6.1_PlotColorReg\", \"learnToolsVersion\": \"0.3.4\", \"failureMessage\": \"\", \"exceptionClass\": \"\", \"trace\": \"\"}}, \"*\")"
      ],
      "text/plain": [
       "<IPython.core.display.Javascript object>"
      ]
     },
     "metadata": {},
     "output_type": "display_data"
    },
    {
     "data": {
      "text/markdown": [
       "<span style=\"color:#33cc33\">Correct</span>"
      ],
      "text/plain": [
       "Correct"
      ]
     },
     "metadata": {},
     "output_type": "display_data"
    },
    {
     "data": {
      "image/png": "[encoded data removed]",
      "text/plain": [
       "<Figure size 416.375x360 with 1 Axes>"
      ]
     },
     "metadata": {
      "needs_background": "light"
     },
     "output_type": "display_data"
    }
   ],
   "source": [
    "# Color-coded scatter plot w/ regression lines\n",
    "sns.lmplot(x='pricepercent',y='winpercent',hue='chocolate',data=candy_data)\n",
    " # Your code here\n",
    "\n",
    "# Check your answer\n",
    "step_6.a.check()"
   ]
  },
  {
   "cell_type": "code",
   "execution_count": 19,
   "id": "b4d7c2b4",
   "metadata": {
    "execution": {
     "iopub.execute_input": "2022-01-15T06:15:27.324094Z",
     "iopub.status.busy": "2022-01-15T06:15:27.323346Z",
     "iopub.status.idle": "2022-01-15T06:15:27.326644Z",
     "shell.execute_reply": "2022-01-15T06:15:27.326111Z"
    },
    "papermill": {
     "duration": 0.048673,
     "end_time": "2022-01-15T06:15:27.326841",
     "exception": false,
     "start_time": "2022-01-15T06:15:27.278168",
     "status": "completed"
    },
    "tags": []
   },
   "outputs": [],
   "source": [
    "# Lines below will give you a hint or solution code\n",
    "#step_6.a.hint()\n",
    "#step_6.a.solution_plot()"
   ]
  },
  {
   "cell_type": "markdown",
   "id": "e682596e",
   "metadata": {
    "papermill": {
     "duration": 0.041417,
     "end_time": "2022-01-15T06:15:27.409697",
     "exception": false,
     "start_time": "2022-01-15T06:15:27.368280",
     "status": "completed"
    },
    "tags": []
   },
   "source": [
    "#### Part B\n",
    "\n",
    "Using the regression lines, what conclusions can you draw about the effects of chocolate and price on candy popularity?"
   ]
  },
  {
   "cell_type": "code",
   "execution_count": 20,
   "id": "42d7984f",
   "metadata": {
    "execution": {
     "iopub.execute_input": "2022-01-15T06:15:27.495508Z",
     "iopub.status.busy": "2022-01-15T06:15:27.494895Z",
     "iopub.status.idle": "2022-01-15T06:15:27.498955Z",
     "shell.execute_reply": "2022-01-15T06:15:27.499506Z"
    },
    "papermill": {
     "duration": 0.049448,
     "end_time": "2022-01-15T06:15:27.499710",
     "exception": false,
     "start_time": "2022-01-15T06:15:27.450262",
     "status": "completed"
    },
    "tags": []
   },
   "outputs": [],
   "source": [
    "#step_6.b.hint()"
   ]
  },
  {
   "cell_type": "code",
   "execution_count": 21,
   "id": "47c60545",
   "metadata": {
    "execution": {
     "iopub.execute_input": "2022-01-15T06:15:27.587123Z",
     "iopub.status.busy": "2022-01-15T06:15:27.584541Z",
     "iopub.status.idle": "2022-01-15T06:15:27.592874Z",
     "shell.execute_reply": "2022-01-15T06:15:27.593334Z",
     "shell.execute_reply.started": "2022-01-15T06:03:39.144453Z"
    },
    "papermill": {
     "duration": 0.052958,
     "end_time": "2022-01-15T06:15:27.593514",
     "exception": false,
     "start_time": "2022-01-15T06:15:27.540556",
     "status": "completed"
    },
    "tags": []
   },
   "outputs": [
    {
     "data": {
      "application/javascript": [
       "parent.postMessage({\"jupyterEvent\": \"custom.exercise_interaction\", \"data\": {\"interactionType\": 3, \"questionType\": 4, \"questionId\": \"6.2_ThinkColorReg\", \"learnToolsVersion\": \"0.3.4\", \"valueTowardsCompletion\": 0.0, \"failureMessage\": \"\", \"exceptionClass\": \"\", \"trace\": \"\", \"outcomeType\": 4}}, \"*\")"
      ],
      "text/plain": [
       "<IPython.core.display.Javascript object>"
      ]
     },
     "metadata": {},
     "output_type": "display_data"
    },
    {
     "data": {
      "text/markdown": [
       "<span style=\"color:#33cc99\">Solution:</span> We'll begin with the regression line for chocolate candies. Since this line has a slightly positive slope, we can say that more expensive chocolate candies tend to be more popular (than relatively cheaper chocolate candies).  Likewise, since the regression line for candies without chocolate has a negative slope, we can say that if candies don't contain chocolate, they tend to be more popular when they are cheaper.  One important note, however, is that the dataset is quite small -- so we shouldn't invest too much trust in these patterns!  To inspire more confidence in the results, we should add more candies to the dataset."
      ],
      "text/plain": [
       "Solution: We'll begin with the regression line for chocolate candies. Since this line has a slightly positive slope, we can say that more expensive chocolate candies tend to be more popular (than relatively cheaper chocolate candies).  Likewise, since the regression line for candies without chocolate has a negative slope, we can say that if candies don't contain chocolate, they tend to be more popular when they are cheaper.  One important note, however, is that the dataset is quite small -- so we shouldn't invest too much trust in these patterns!  To inspire more confidence in the results, we should add more candies to the dataset."
      ]
     },
     "metadata": {},
     "output_type": "display_data"
    }
   ],
   "source": [
    "# Check your answer (Run this code cell to receive credit!)\n",
    "step_6.b.solution()"
   ]
  },
  {
   "cell_type": "markdown",
   "id": "0ca10959",
   "metadata": {
    "papermill": {
     "duration": 0.041661,
     "end_time": "2022-01-15T06:15:27.678463",
     "exception": false,
     "start_time": "2022-01-15T06:15:27.636802",
     "status": "completed"
    },
    "tags": []
   },
   "source": [
    "## Step 7: Everybody loves chocolate.\n",
    "\n",
    "#### Part A\n",
    "\n",
    "Create a categorical scatter plot to highlight the relationship between `'chocolate'` and `'winpercent'`.  Put `'chocolate'` on the (horizontal) x-axis, and `'winpercent'` on the (vertical) y-axis."
   ]
  },
  {
   "cell_type": "code",
   "execution_count": 22,
   "id": "7e6cb47b",
   "metadata": {
    "execution": {
     "iopub.execute_input": "2022-01-15T06:15:27.766261Z",
     "iopub.status.busy": "2022-01-15T06:15:27.765540Z",
     "iopub.status.idle": "2022-01-15T06:15:27.987143Z",
     "shell.execute_reply": "2022-01-15T06:15:27.987669Z",
     "shell.execute_reply.started": "2022-01-15T06:10:32.681076Z"
    },
    "papermill": {
     "duration": 0.267441,
     "end_time": "2022-01-15T06:15:27.987852",
     "exception": false,
     "start_time": "2022-01-15T06:15:27.720411",
     "status": "completed"
    },
    "tags": []
   },
   "outputs": [
    {
     "data": {
      "application/javascript": [
       "parent.postMessage({\"jupyterEvent\": \"custom.exercise_interaction\", \"data\": {\"outcomeType\": 1, \"valueTowardsCompletion\": 0.3333333333333333, \"interactionType\": 1, \"questionType\": 2, \"questionId\": \"7.1_PlotSwarm\", \"learnToolsVersion\": \"0.3.4\", \"failureMessage\": \"\", \"exceptionClass\": \"\", \"trace\": \"\"}}, \"*\")"
      ],
      "text/plain": [
       "<IPython.core.display.Javascript object>"
      ]
     },
     "metadata": {},
     "output_type": "display_data"
    },
    {
     "data": {
      "text/markdown": [
       "<span style=\"color:#33cc33\">Correct</span>"
      ],
      "text/plain": [
       "Correct"
      ]
     },
     "metadata": {},
     "output_type": "display_data"
    },
    {
     "data": {
      "image/png": "[encoded data removed]",
      "text/plain": [
       "<Figure size 432x288 with 1 Axes>"
      ]
     },
     "metadata": {
      "needs_background": "light"
     },
     "output_type": "display_data"
    }
   ],
   "source": [
    "# Scatter plot showing the relationship between 'chocolate' and 'winpercent'\n",
    "sns.swarmplot(x=candy_data['chocolate'],\n",
    "              y=candy_data['winpercent'])\n",
    "# Your code here\n",
    "\n",
    "# Check your answer\n",
    "step_7.a.check()"
   ]
  },
  {
   "cell_type": "code",
   "execution_count": 23,
   "id": "4a0473c1",
   "metadata": {
    "execution": {
     "iopub.execute_input": "2022-01-15T06:15:28.081508Z",
     "iopub.status.busy": "2022-01-15T06:15:28.080800Z",
     "iopub.status.idle": "2022-01-15T06:15:28.083361Z",
     "shell.execute_reply": "2022-01-15T06:15:28.083986Z"
    },
    "papermill": {
     "duration": 0.052837,
     "end_time": "2022-01-15T06:15:28.084155",
     "exception": false,
     "start_time": "2022-01-15T06:15:28.031318",
     "status": "completed"
    },
    "tags": []
   },
   "outputs": [],
   "source": [
    "# Lines below will give you a hint or solution code\n",
    "#step_7.a.hint()\n",
    "#step_7.a.solution_plot()"
   ]
  },
  {
   "cell_type": "markdown",
   "id": "ed643ef9",
   "metadata": {
    "papermill": {
     "duration": 0.044347,
     "end_time": "2022-01-15T06:15:28.172437",
     "exception": false,
     "start_time": "2022-01-15T06:15:28.128090",
     "status": "completed"
    },
    "tags": []
   },
   "source": [
    "#### Part B\n",
    "\n",
    "You decide to dedicate a section of your report to the fact that chocolate candies tend to be more popular than candies without chocolate.  Which plot is more appropriate to tell this story: the plot from **Step 6**, or the plot from **Step 7**?"
   ]
  },
  {
   "cell_type": "code",
   "execution_count": 24,
   "id": "6785bed4",
   "metadata": {
    "execution": {
     "iopub.execute_input": "2022-01-15T06:15:28.267122Z",
     "iopub.status.busy": "2022-01-15T06:15:28.266288Z",
     "iopub.status.idle": "2022-01-15T06:15:28.268931Z",
     "shell.execute_reply": "2022-01-15T06:15:28.269492Z"
    },
    "papermill": {
     "duration": 0.051227,
     "end_time": "2022-01-15T06:15:28.269816",
     "exception": false,
     "start_time": "2022-01-15T06:15:28.218589",
     "status": "completed"
    },
    "tags": []
   },
   "outputs": [],
   "source": [
    "#step_7.b.hint()"
   ]
  },
  {
   "cell_type": "code",
   "execution_count": 25,
   "id": "5fe0dea6",
   "metadata": {
    "execution": {
     "iopub.execute_input": "2022-01-15T06:15:28.363946Z",
     "iopub.status.busy": "2022-01-15T06:15:28.363212Z",
     "iopub.status.idle": "2022-01-15T06:15:28.368088Z",
     "shell.execute_reply": "2022-01-15T06:15:28.368710Z",
     "shell.execute_reply.started": "2022-01-15T06:11:14.043485Z"
    },
    "papermill": {
     "duration": 0.054394,
     "end_time": "2022-01-15T06:15:28.368911",
     "exception": false,
     "start_time": "2022-01-15T06:15:28.314517",
     "status": "completed"
    },
    "tags": []
   },
   "outputs": [
    {
     "data": {
      "application/javascript": [
       "parent.postMessage({\"jupyterEvent\": \"custom.exercise_interaction\", \"data\": {\"interactionType\": 3, \"questionType\": 4, \"questionId\": \"7.2_ThinkSwarm\", \"learnToolsVersion\": \"0.3.4\", \"valueTowardsCompletion\": 0.0, \"failureMessage\": \"\", \"exceptionClass\": \"\", \"trace\": \"\", \"outcomeType\": 4}}, \"*\")"
      ],
      "text/plain": [
       "<IPython.core.display.Javascript object>"
      ]
     },
     "metadata": {},
     "output_type": "display_data"
    },
    {
     "data": {
      "text/markdown": [
       "<span style=\"color:#33cc99\">Solution:</span> In this case, the categorical scatter plot from **Step 7** is the more appropriate plot. While both plots tell the desired story, the plot from **Step 6** conveys far more information that could distract from the main point."
      ],
      "text/plain": [
       "Solution: In this case, the categorical scatter plot from **Step 7** is the more appropriate plot. While both plots tell the desired story, the plot from **Step 6** conveys far more information that could distract from the main point."
      ]
     },
     "metadata": {},
     "output_type": "display_data"
    }
   ],
   "source": [
    "# Check your answer (Run this code cell to receive credit!)\n",
    "step_7.b.solution()"
   ]
  },
  {
   "cell_type": "markdown",
   "id": "20ef07f6",
   "metadata": {
    "papermill": {
     "duration": 0.044902,
     "end_time": "2022-01-15T06:15:28.459220",
     "exception": false,
     "start_time": "2022-01-15T06:15:28.414318",
     "status": "completed"
    },
    "tags": []
   },
   "source": [
    "## Keep going\n",
    "\n",
    "Explore **[histograms and density plots](https://www.kaggle.com/alexisbcook/distributions)**."
   ]
  },
  {
   "cell_type": "markdown",
   "id": "31babc4d",
   "metadata": {
    "papermill": {
     "duration": 0.044968,
     "end_time": "2022-01-15T06:15:28.549701",
     "exception": false,
     "start_time": "2022-01-15T06:15:28.504733",
     "status": "completed"
    },
    "tags": []
   },
   "source": [
    "---\n",
    "\n",
    "\n",
    "\n",
    "\n",
    "*Have questions or comments? Visit the [course discussion forum](https://www.kaggle.com/learn/data-visualization/discussion) to chat with other learners.*"
   ]
  }
 ],
 "metadata": {
  "kernelspec": {
   "display_name": "Python 3",
   "language": "python",
   "name": "python3"
  },
  "language_info": {
   "codemirror_mode": {
    "name": "ipython",
    "version": 3
   },
   "file_extension": ".py",
   "mimetype": "text/x-python",
   "name": "python",
   "nbconvert_exporter": "python",
   "pygments_lexer": "ipython3",
   "version": "3.7.12"
  },
  "papermill": {
   "default_parameters": {},
   "duration": 16.99733,
   "end_time": "2022-01-15T06:15:29.306326",
   "environment_variables": {},
   "exception": null,
   "input_path": "__notebook__.ipynb",
   "output_path": "__notebook__.ipynb",
   "parameters": {},
   "start_time": "2022-01-15T06:15:12.308996",
   "version": "2.3.3"
  }
 },
 "nbformat": 4,
 "nbformat_minor": 5
}
